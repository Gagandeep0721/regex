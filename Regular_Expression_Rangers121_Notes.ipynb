{
 "cells": [
  {
   "cell_type": "markdown",
   "metadata": {},
   "source": [
    "# Regular Expressions"
   ]
  },
  {
   "cell_type": "markdown",
   "metadata": {},
   "source": [
    "# Tasks today:\n",
    "1) <b>Importing</b> <br>\n",
    "2) <b>Using Regular Expressions</b> <br>\n",
    " &nbsp;&nbsp;&nbsp;&nbsp; a) re.compile() <br>\n",
    " &nbsp;&nbsp;&nbsp;&nbsp; b) re.match() <br>\n",
    " &nbsp;&nbsp;&nbsp;&nbsp; c) re.findall() <br>\n",
    " &nbsp;&nbsp;&nbsp;&nbsp; d) re.search() <br>\n",
    "3) <b>Sets</b> <br>\n",
    " &nbsp;&nbsp;&nbsp;&nbsp; a) Integer Ranges <br>\n",
    " &nbsp;&nbsp;&nbsp;&nbsp; b) Character Ranges <br>\n",
    "4) <b>Counting Occurences</b> <br>\n",
    " &nbsp;&nbsp;&nbsp;&nbsp; a) {x} <br>\n",
    " &nbsp;&nbsp;&nbsp;&nbsp; b) {, x} <br>\n",
    " &nbsp;&nbsp;&nbsp;&nbsp; c) {?} <br>\n",
    " &nbsp;&nbsp;&nbsp;&nbsp; d) {*} <br>\n",
    " &nbsp;&nbsp;&nbsp;&nbsp; e) {+} <br>\n",
    "5) <b>In-Class Exercise #1</b> <br>\n",
    "6) <b>Escaping Characters</b> <br>\n",
    "7) <b>Grouping</b> <br>\n",
    "8) <b>In-Class Exercise #2</b> <br>\n",
    "9) <b>Opening a File</b> <br>\n",
    " &nbsp;&nbsp;&nbsp;&nbsp; a) open() <br>\n",
    " &nbsp;&nbsp;&nbsp;&nbsp; b) with open() <br>\n",
    " &nbsp;&nbsp;&nbsp;&nbsp; c) re.match() <br>\n",
    " &nbsp;&nbsp;&nbsp;&nbsp; d) re.search() <br>\n",
    " &nbsp;&nbsp;&nbsp;&nbsp; e) Store the String in a Variable <br>\n",
    "10) <b>Regex Project</b> <br>"
   ]
  },
  {
   "cell_type": "markdown",
   "metadata": {},
   "source": [
    "### Importing <br>\n",
    "<p>Regular Expressions are universal throughout most programming languages... They are generally imported through the module 're'.</p>"
   ]
  },
  {
   "cell_type": "code",
   "execution_count": 19,
   "metadata": {},
   "outputs": [],
   "source": [
    "# import re\n",
    "import re"
   ]
  },
  {
   "cell_type": "markdown",
   "metadata": {},
   "source": [
    "### Using Regular Expressions <br>\n",
    "<p>Regular expressions give us the ability to search for patterns within text, strings, files, etc. They serve several uses, such as; security measures, searching, filtering, pattern recognition, and more...</p>"
   ]
  },
  {
   "cell_type": "markdown",
   "metadata": {},
   "source": [
    "##### re.compile()"
   ]
  },
  {
   "cell_type": "code",
   "execution_count": 9,
   "metadata": {},
   "outputs": [],
   "source": [
    "# using compile, pre determines the string to be used in regular expression methods\n",
    "pattern = re.compile('abcd')"
   ]
  },
  {
   "cell_type": "markdown",
   "metadata": {},
   "source": [
    "##### re.match()"
   ]
  },
  {
   "cell_type": "code",
   "execution_count": 29,
   "metadata": {},
   "outputs": [
    {
     "name": "stdout",
     "output_type": "stream",
     "text": [
      "<re.Match object; span=(0, 4), match='abcd'>\n",
      "(0, 4)\n",
      "Help on function match in module re:\n",
      "\n",
      "match(pattern, string, flags=0)\n",
      "    Try to apply the pattern at the start of the string, returning\n",
      "    a Match object, or None if no match was found.\n",
      "\n",
      "None\n"
     ]
    }
   ],
   "source": [
    "# return the first match and then stop\n",
    "# if it doesnt immediately find a matched pattern it will stop searching\n",
    "\n",
    "match = pattern.match('abcd123')\n",
    "print(match)\n",
    "\n",
    "# Accessing the span of the match\n",
    "print(match.span())\n",
    "help(re.match)\n",
    "re.match\n",
    "\n",
    "match2 =pattern.match('123abcd')\n",
    "print(match2)"
   ]
  },
  {
   "cell_type": "markdown",
   "metadata": {},
   "source": [
    "##### re.findall()"
   ]
  },
  {
   "cell_type": "code",
   "execution_count": 4,
   "metadata": {},
   "outputs": [
    {
     "name": "stdout",
     "output_type": "stream",
     "text": [
      "['abcd', 'abcd', 'abcd', 'abcd', 'abcd']\n",
      "Help on function findall in module re:\n",
      "\n",
      "findall(pattern, string, flags=0)\n",
      "    Return a list of all non-overlapping matches in the string.\n",
      "    \n",
      "    If one or more capturing groups are present in the pattern, return\n",
      "    a list of groups; this will be a list of tuples if the pattern\n",
      "    has more than one group.\n",
      "    \n",
      "    Empty matches are included in the result.\n",
      "\n"
     ]
    }
   ],
   "source": [
    "#return a list of matches\n",
    "pattern = re.compile(\"abcd\")\n",
    "finders = pattern.findall(\"123abcd abcd123 abcdabcd 123abcd123\")\n",
    "\n",
    "print(finders)\n",
    "\n",
    "help(re.findall)"
   ]
  },
  {
   "cell_type": "markdown",
   "metadata": {},
   "source": [
    "##### re.search()"
   ]
  },
  {
   "cell_type": "code",
   "execution_count": 6,
   "metadata": {},
   "outputs": [
    {
     "name": "stdout",
     "output_type": "stream",
     "text": [
      "Help on function search in module re:\n",
      "\n",
      "search(pattern, string, flags=0)\n",
      "    Scan through string looking for a match to the pattern, returning\n",
      "    a Match object, or None if no match was found.\n",
      "\n",
      "<re.Match object; span=(34, 38), match='abcd'>\n",
      "(34, 38)\n",
      "(34, 38) <class 'tuple'>\n",
      "abcd\n",
      "abcd\n"
     ]
    }
   ],
   "source": [
    "#return the first instance of the pattern\n",
    "#it will search the entirety of the string before giving up\n",
    "\n",
    "help(re.search)\n",
    "\n",
    "pattern = re.compile('abcd')\n",
    "\n",
    "random_string = \"123 123 12234 skjdhhfsjdhfgb 1234 abcd asdygasdashd\"\n",
    "search = pattern.search(random_string)\n",
    "print(search)\n",
    "span = search.span()\n",
    "print(span)\n",
    "\n",
    "print(span, type(span))\n",
    "                        #34     #38\n",
    "print(random_string[span[0]:span[1]])\n",
    "print(random_string[34:38])"
   ]
  },
  {
   "cell_type": "markdown",
   "metadata": {},
   "source": [
    "### Sets <br>\n",
    "<p>The following cells will allow you to use regular expressions to search for certain values within a range such as numbers 1 through 4.</p>"
   ]
  },
  {
   "cell_type": "markdown",
   "metadata": {},
   "source": [
    "##### [a-z] or [A-Z] - any lowercase/uppercase letters from a to z<br/>[^2] - anything that's not 2"
   ]
  },
  {
   "cell_type": "markdown",
   "metadata": {},
   "source": [
    "##### Integer Ranges"
   ]
  },
  {
   "cell_type": "code",
   "execution_count": 8,
   "metadata": {},
   "outputs": [
    {
     "name": "stdout",
     "output_type": "stream",
     "text": [
      "(2, 5)\n",
      "<re.Match object; span=(2, 5), match='356'>\n"
     ]
    }
   ],
   "source": [
    "pattern = re.compile('[0-4][2-6][5-9]')\n",
    "random_numbers =pattern.search('763569871')\n",
    "span = random_numbers.span()\n",
    "print(span)\n",
    "print(random_numbers)"
   ]
  },
  {
   "cell_type": "code",
   "execution_count": 10,
   "metadata": {},
   "outputs": [
    {
     "name": "stdout",
     "output_type": "stream",
     "text": [
      "<re.Match object; span=(4, 7), match='463'>\n",
      "['463', '063']\n"
     ]
    }
   ],
   "source": [
    "pattern = re.compile('[0-9][0-7][0-5]')\n",
    "more_nums = pattern.search('47894634290639487')\n",
    "print(more_nums)\n",
    "found_list = pattern.findall('47894634290639487')\n",
    "print(found_list)"
   ]
  },
  {
   "cell_type": "markdown",
   "metadata": {},
   "source": [
    "Character Ranges"
   ]
  },
  {
   "cell_type": "code",
   "execution_count": 12,
   "metadata": {},
   "outputs": [
    {
     "name": "stdout",
     "output_type": "stream",
     "text": [
      "['Hell', 'Ryan', 'Part', 'Resp']\n"
     ]
    }
   ],
   "source": [
    "char_pattern = re.compile('[A-Z][a-z][a-z][a-z]')\n",
    "\n",
    "found = char_pattern.findall(\"Hello my name is Ryan and I like to Party, Responsibiliy\")\n",
    "\n",
    "print(found)"
   ]
  },
  {
   "cell_type": "code",
   "execution_count": 17,
   "metadata": {},
   "outputs": [
    {
     "name": "stdout",
     "output_type": "stream",
     "text": [
      "['I', 'A', 'L']\n"
     ]
    }
   ],
   "source": [
    "char_pattern = re.compile('[A-M]')\n",
    "\n",
    "found =char_pattern.findall(\"I will Always Love Youuu\")\n",
    "\n",
    "print(found)"
   ]
  },
  {
   "cell_type": "markdown",
   "metadata": {},
   "source": [
    "### Counting Occurences"
   ]
  },
  {
   "cell_type": "markdown",
   "metadata": {},
   "source": [
    "##### {x} - something that occurs {num_of_times}"
   ]
  },
  {
   "cell_type": "code",
   "execution_count": 18,
   "metadata": {},
   "outputs": [
    {
     "name": "stdout",
     "output_type": "stream",
     "text": [
      "['BB8', 'PP4']\n"
     ]
    }
   ],
   "source": [
    "char_count = re.compile('[A-Z]{2}[0-9]')\n",
    "found_count = char_count.findall('BB8 is pretty cool but I have always preferred R2D2 and C3P0 if I had a driod I would name it, PP4')\n",
    "print(found_count)                                  "
   ]
  },
  {
   "cell_type": "code",
   "execution_count": 21,
   "metadata": {},
   "outputs": [
    {
     "name": "stdout",
     "output_type": "stream",
     "text": [
      "['Alex', 'Marc', 'Kate', 'Gaga']\n"
     ]
    }
   ],
   "source": [
    "char_count = re.compile('[A-Z][a-z]{3}')\n",
    "statement = char_count.findall('some people in this class have names with only 4 letters, they are Alex, Marc, Kate, Gagan ')\n",
    "print(statement)                                  "
   ]
  },
  {
   "cell_type": "markdown",
   "metadata": {},
   "source": [
    "##### {x, x} - something that occurs between x and x times"
   ]
  },
  {
   "cell_type": "code",
   "execution_count": 24,
   "metadata": {},
   "outputs": [
    {
     "name": "stdout",
     "output_type": "stream",
     "text": [
      "['m', 'm', 'm', 'mm', 'mmm', 'mmmm', 'mmmmm', 'mmmmm', 'mmmmm', 'mmmmm', 'mmmm', 'mm', 'mm', 'm', 'm']\n"
     ]
    }
   ],
   "source": [
    "random_pattern = re.compile('m{1,5}')\n",
    "random_statement = random_pattern.findall(\"This is an example of trying to find some ms. We need a lot of mms and mmms and mmmms and mmmmms and mmmmmmmmmmsmmmmmsmmmmsmmsmmsmsms\")\n",
    "print(random_statement)"
   ]
  },
  {
   "cell_type": "code",
   "execution_count": 25,
   "metadata": {},
   "outputs": [
    {
     "name": "stdout",
     "output_type": "stream",
     "text": [
      "['m', 'm', 'm', 'm', 'm', 'm', 'm', 'm', 'm', 'm', 'm', 'm', 'm', 'm', 'm', 'm', 'm', 'm', 'm', 'm', 'm', 'm', 'm', 'm', 'm', 'm', 'm', 'm', 'm', 'm', 'm', 'm', 'm', 'm', 'm', 'm', 'm', 'm', 'm', 'm', 'm', 'm']\n"
     ]
    }
   ],
   "source": [
    "random_pattern = re.compile('m{1,5}?')\n",
    "random_statement = random_pattern.findall(\"This is an example of trying to find some ms. We need a lot of mms and mmms and mmmms and mmmmms and mmmmmmmmmmsmmmmmsmmmmsmmsmmsmsms\")\n",
    "print(random_statement)"
   ]
  },
  {
   "cell_type": "code",
   "execution_count": 26,
   "metadata": {},
   "outputs": [
    {
     "name": "stdout",
     "output_type": "stream",
     "text": [
      "['7732027654', '1234567', '6308528209']\n"
     ]
    }
   ],
   "source": [
    "random_pattern = re.compile('[0-9]{7,11}')\n",
    "found_numbers = random_pattern.findall('Which of these are phone numbers: 7732027654 1234567 6308528209')\n",
    "print(found_numbers)"
   ]
  },
  {
   "cell_type": "code",
   "execution_count": 27,
   "metadata": {},
   "outputs": [
    {
     "name": "stdout",
     "output_type": "stream",
     "text": [
      "['773202765', '6308528209']\n"
     ]
    }
   ],
   "source": [
    "potential_phone = re.compile('[0-9]{7,11}')\n",
    "is_there_phone = potential_phone.findall('Which of these are phone numbers: 773202765. can someone call me 6308528209')\n",
    "print(is_there_phone)"
   ]
  },
  {
   "cell_type": "markdown",
   "metadata": {},
   "source": [
    "##### ? - something that occurs 0 or 1 time"
   ]
  },
  {
   "cell_type": "code",
   "execution_count": 30,
   "metadata": {},
   "outputs": [
    {
     "name": "stdout",
     "output_type": "stream",
     "text": [
      "['Hello', 'name', 'ryan', 'like', 'part', 'also', 'here', 'also', 'like', 'part']\n"
     ]
    }
   ],
   "source": [
    "#optional\n",
    "pattern = re.compile('[A-Z]?[a-z]{4}')\n",
    "\n",
    "found_pat = pattern.findall('Hello my name is ryan and I like to party also Alex is here and may also like to party')\n",
    "print(found_pat)"
   ]
  },
  {
   "cell_type": "code",
   "execution_count": 38,
   "metadata": {},
   "outputs": [
    {
     "name": "stdout",
     "output_type": "stream",
     "text": [
      "['Hello', 'Alex']\n"
     ]
    }
   ],
   "source": [
    "pattern = re.compile('[A-Z]?[a-z]{1,4}')\n",
    "\n",
    "found_pat = pattern.findall(\"Hello my name is ryan and I like to party also Alex is here and may also like to party\")\n",
    "print(found_pat)"
   ]
  },
  {
   "cell_type": "code",
   "execution_count": 36,
   "metadata": {},
   "outputs": [
    {
     "name": "stdout",
     "output_type": "stream",
     "text": [
      "['c3', 'P0', 'R2', 'D2', '1', '2', '3', '4', '5', '6']\n"
     ]
    }
   ],
   "source": [
    "pattern = re.compile('[A-Z]?[a-z]?[0-9]')\n",
    "\n",
    "droid_names = pattern.findall('I am c3P0 Human Cyborg relations and this is my coutnerpart, R2D2 bee boop boop also 1 2 3 4 5 6')\n",
    "print(droid_names)\n"
   ]
  },
  {
   "cell_type": "markdown",
   "metadata": {},
   "source": [
    "##### * - something that occurs at least 0 times"
   ]
  },
  {
   "cell_type": "code",
   "execution_count": 39,
   "metadata": {},
   "outputs": [
    {
     "name": "stdout",
     "output_type": "stream",
     "text": [
      "['Hello', 'I', 'General', 'Kenobi', 'Army', 'Republic']\n"
     ]
    }
   ],
   "source": [
    "#.*-> wild card of sorts\n",
    "pattern = re.compile('[A-Z][a-z]*')\n",
    "\n",
    "found_pat = pattern.findall('Hello I am General Kenobi, leader of the Army of the Republic')\n",
    "\n",
    "print(found_pat)\n"
   ]
  },
  {
   "cell_type": "code",
   "execution_count": 43,
   "metadata": {},
   "outputs": [
    {
     "name": "stdout",
     "output_type": "stream",
     "text": [
      "['', 'ello', '', '', '', 'am', '', '', 'eneral', '', '', 'enobi', '', '', 'leader', '', 'of', '', 'the', '', '', 'rmy', '', 'of', '', 'the', '', '', 'epublic', '', '', '', '', 'am', '', 'friend', '', 'with', '', '', '', 'driods', '']\n"
     ]
    }
   ],
   "source": [
    "pattern = re.compile('[a-z]*')\n",
    "\n",
    "found_pat = pattern.findall('Hello I am General Kenobi, leader of the Army of the Republic. I am friend with 2 driods')\n",
    "\n",
    "print(found_pat)\n"
   ]
  },
  {
   "cell_type": "code",
   "execution_count": 45,
   "metadata": {},
   "outputs": [
    {
     "name": "stdout",
     "output_type": "stream",
     "text": [
      "['Hello', '', 'I', '', 'am', '', 'General', '', 'Kenobi', '', '', 'leader', '', 'of', '', 'the', '', 'Army', '', 'of', '', 'the', '', 'Republic', '', 'I', '', 'am', '', 'friend', '', 'with', '', '2', '', 'driods', '']\n"
     ]
    }
   ],
   "source": [
    "pattern = re.compile('[A-z]*[0-9]*')\n",
    "\n",
    "found_pat = pattern.findall('Hello I am General Kenobi, leader of the Army of the Republic.I am friend with 2 driods')\n",
    "\n",
    "print(found_pat)\n"
   ]
  },
  {
   "cell_type": "markdown",
   "metadata": {},
   "source": [
    "##### + - something that occurs at least once"
   ]
  },
  {
   "cell_type": "code",
   "execution_count": 47,
   "metadata": {},
   "outputs": [
    {
     "name": "stdout",
     "output_type": "stream",
     "text": [
      "['6308528209', '6304939808', '6309631821', '123', '132456798489765464']\n"
     ]
    }
   ],
   "source": [
    "pattern = re.compile('[0-9]+')\n",
    "\n",
    "found_pat = pattern.findall(\"This is a list of phone numbers: 6308528209 6304939808 6309631821 123 132456798489765464\")\n",
    "print(found_pat)"
   ]
  },
  {
   "cell_type": "code",
   "execution_count": 48,
   "metadata": {},
   "outputs": [
    {
     "name": "stdout",
     "output_type": "stream",
     "text": [
      "[]\n"
     ]
    }
   ],
   "source": [
    "pattern = re.compile('[0-9]+')\n",
    "\n",
    "found_pat = pattern.findall(\"I dont know anybodys phone number\")\n",
    "print(found_pat)"
   ]
  },
  {
   "cell_type": "markdown",
   "metadata": {},
   "source": [
    "##### In-class exercise 1: \n",
    "\n",
    "Use a regular expression to find every number in the given string"
   ]
  },
  {
   "cell_type": "code",
   "execution_count": 52,
   "metadata": {},
   "outputs": [
    {
     "name": "stdout",
     "output_type": "stream",
     "text": [
      "['773-202-5863', '630-852-8209', '1999']\n"
     ]
    }
   ],
   "source": [
    "#In-class exercise 1:\n",
    "#Use a regular expression to find a formatted phone number in the string.\n",
    "pattern = re.compile(\"[0-9][-][0-9][-][0-9]{4}\")\n",
    "phone_string = \"If you need some sweet carpets please call 773-202-5863 also you can call my parents at 630-852-8209 but you would have to travel to 1999\"\n",
    "\n",
    "found_pat = pattern.findall(phone_string)\n",
    "print(found_pat)"
   ]
  },
  {
   "cell_type": "code",
   "execution_count": 53,
   "metadata": {},
   "outputs": [
    {
     "name": "stdout",
     "output_type": "stream",
     "text": [
      "['773-202-5863', '630-852-8209']\n"
     ]
    }
   ],
   "source": [
    "phone_format = re.compile(\"[0-9]{3}[-][0-9]{3}[-][0-9]{4}\")\n",
    "phone_string = \"If you need some sweet carpets please call 773-202-5863 also you can call my parents at 630-852-8209 but you would have to travel to 1999.\"\n",
    "format_phone = phone_format.findall(phone_string)\n",
    "print(format_phone)"
   ]
  },
  {
   "cell_type": "markdown",
   "metadata": {},
   "source": [
    "### Escaping Characters"
   ]
  },
  {
   "cell_type": "markdown",
   "metadata": {},
   "source": [
    "##### \\w - look for any Unicode character<br/>\\W - look for anything that isnt a Unicode character\n",
    "\n",
    "[History on Unicode](http://unicode.org/standard/WhatIsUnicode.html)\n",
    "\n",
    "[More on Unicode Characters](https://en.wikipedia.org/wiki/List_of_Unicode_characters)"
   ]
  },
  {
   "cell_type": "code",
   "execution_count": 54,
   "metadata": {},
   "outputs": [
    {
     "name": "stdout",
     "output_type": "stream",
     "text": [
      "['This', 'is', 'a', 'sentence', 'With', 'an', 'exclamation', 'point', 'at', 'the', 'end', 'Also', 'don', 't', 'forget', 'to', 'floss', 'between', 'all', '28', '32', 'of', 'your', 'beautiful', 'chompers']\n"
     ]
    }
   ],
   "source": [
    "pattern_1 = re.compile('[\\w]+')\n",
    "\n",
    "found_1 = pattern_1.findall(\"This is a sentence. With an exclamation point at the end! Also, don't forget to floss! between all 28 -32 of your beautiful chompers\")\n",
    "\n",
    "print(found_1)\n"
   ]
  },
  {
   "cell_type": "code",
   "execution_count": 55,
   "metadata": {},
   "outputs": [
    {
     "name": "stdout",
     "output_type": "stream",
     "text": [
      "[' ', ' ', ' ', ' ', ' ', ' ', ' ', ' ', ' ', ' ', '! ', ', ', ' ', \"'\", ' ', ' ', ' ', ' ', ' ', ' ', '-', ' ', ' ', ' ', ' ', '.']\n"
     ]
    }
   ],
   "source": [
    "\n",
    "pattern_2 = re.compile('[\\W]+')\n",
    "\n",
    "found_2 = pattern_2.findall(\"This is a sentence with an exclamation point at the end! Also, please don't forget to floss between all 28-32 of your beautiful chompers.\")\n",
    "\n",
    "\n",
    "print(found_2)"
   ]
  },
  {
   "cell_type": "markdown",
   "metadata": {},
   "source": [
    "##### \\d - look for any digit 0-9<br/>\\D - look for anything that isnt a digit"
   ]
  },
  {
   "cell_type": "code",
   "execution_count": 60,
   "metadata": {},
   "outputs": [
    {
     "name": "stdout",
     "output_type": "stream",
     "text": [
      "['2th', '3th', '7th', '1st']\n"
     ]
    }
   ],
   "source": [
    "# similar  to [0-9] but cant set ranges\n",
    "pattern_nums = re.compile('\\d{1}[a-z]{2}')\n",
    "found_date = pattern_nums.findall(\"Today is the 12th tomorrow will be the 13th and in 5 days it will be the 17th and 4 days later it will be 21st.\")\n",
    "print(found_date)"
   ]
  },
  {
   "cell_type": "code",
   "execution_count": 63,
   "metadata": {},
   "outputs": [
    {
     "name": "stdout",
     "output_type": "stream",
     "text": [
      "['12th', '13th', '17th', '21st', '171st']\n"
     ]
    }
   ],
   "source": [
    "pattern_nums = re.compile('\\d{1,}[a-z]{2}')\n",
    "found_date = pattern_nums.findall(\"Today is the 12th tomorrow will be the 13th and in 5 days it will be the 17th and 4 days later it will be 21st.171st 128569846496594564\")\n",
    "print(found_date)"
   ]
  },
  {
   "cell_type": "code",
   "execution_count": 8,
   "metadata": {},
   "outputs": [
    {
     "name": "stdout",
     "output_type": "stream",
     "text": [
      "['Today is the ', 'th, tomorrow will be the ', 'th and in ', ' days it will be the ', 'th and then ', ' days later it will be the ', 'st. June ', 'st is the ', 'st day of the year ', 'rd']\n"
     ]
    }
   ],
   "source": [
    "pattern_nums = re.compile('\\D+')\n",
    "found_date = pattern_nums.findall(\"Today is the 12th, tomorrow will be the 13th and in 5 days it will be the 17th and then 4 days later it will be the 21st. June 21st is the 171st day of the year 1283512837518273182763rd\")\n",
    "print(found_date)"
   ]
  },
  {
   "cell_type": "markdown",
   "metadata": {},
   "source": [
    "##### \\s - look for any white space<br/>\\S - look for anything that isnt whitespace"
   ]
  },
  {
   "cell_type": "code",
   "execution_count": 12,
   "metadata": {},
   "outputs": [
    {
     "name": "stdout",
     "output_type": "stream",
     "text": [
      "['            ', '             ', ' ', ' ', '            ']\n",
      "['Are', 'you', 'afraid', 'of', 'the', 'dark?', 'sa10', ',', '!', 'G']\n"
     ]
    }
   ],
   "source": [
    "no_space = re.compile('\\S+')\n",
    "                             \n",
    "space = re.compile('\\s+')\n",
    "found_space = space.findall(\"Are            you             afraid of the            dark?\")\n",
    "print(found_space)\n",
    "\n",
    "found_nospace = no_space.findall('Are    you     afraid of the dark?     sa10 ,    ! G')\n",
    "print(found_nospace)"
   ]
  },
  {
   "cell_type": "markdown",
   "metadata": {},
   "source": [
    "##### \\b - look for boundaries or edges of a word<br/>\\B - look for anything that isnt a boundary"
   ]
  },
  {
   "cell_type": "code",
   "execution_count": 14,
   "metadata": {},
   "outputs": [
    {
     "name": "stdout",
     "output_type": "stream",
     "text": [
      "[]\n",
      "['cat']\n"
     ]
    }
   ],
   "source": [
    "new_pattern = re.compile(r\"\\bcat\\b\")\n",
    "\n",
    "cat_word = \"certificate\"\n",
    "cat_word2 = \"black cat\"\n",
    "found_cat = new_pattern.findall(cat_word)\n",
    "print(found_cat)\n",
    "found_cat2 = new_pattern.findall(cat_word2)\n",
    "print(found_cat2)"
   ]
  },
  {
   "cell_type": "code",
   "execution_count": 17,
   "metadata": {},
   "outputs": [
    {
     "name": "stdout",
     "output_type": "stream",
     "text": [
      "['cat']\n"
     ]
    }
   ],
   "source": [
    "new_pattern = re.compile(r\"\\Bcat\\B\")\n",
    "\n",
    "cat_bound = new_pattern.findall(cat_word)\n",
    "\n",
    "print(cat_bound)"
   ]
  },
  {
   "cell_type": "code",
   "execution_count": 20,
   "metadata": {},
   "outputs": [
    {
     "name": "stdout",
     "output_type": "stream",
     "text": [
      "[]\n"
     ]
    }
   ],
   "source": [
    "new_pattern = re.compile(r\"\\bgagan\\b\")\n",
    "found_pattern = new_pattern.findall(\"name Gagan name\")\n",
    "print(found_pattern)\n"
   ]
  },
  {
   "cell_type": "markdown",
   "metadata": {},
   "source": [
    "### Grouping"
   ]
  },
  {
   "cell_type": "code",
   "execution_count": 78,
   "metadata": {},
   "outputs": [
    {
     "name": "stdout",
     "output_type": "stream",
     "text": [
      "[('Max', 'Smith'), ('Sam', 'Darnold'), ('LeBron', 'James'), ('Micheal', 'Jordan'), ('Kevin', 'Durant'), ('Patrick', 'McCormick')]\n",
      "['Max Smith', ' aaron rodgers', ' Sam Darnold', ' LeBron James', ' Micheal Jordan', ' Kevin Durant', ' Patrick McCormick']\n",
      "Max Smith\n",
      "<re.Match object; span=(0, 9), match='Max Smith'>\n",
      "not a valid name\n",
      "Sam Darnold\n",
      "<re.Match object; span=(1, 12), match='Sam Darnold'>\n",
      "LeBron James\n",
      "<re.Match object; span=(1, 13), match='LeBron James'>\n",
      "Micheal Jordan\n",
      "<re.Match object; span=(1, 15), match='Micheal Jordan'>\n",
      "Kevin Durant\n",
      "<re.Match object; span=(1, 13), match='Kevin Durant'>\n",
      "Patrick McCormick\n",
      "<re.Match object; span=(1, 18), match='Patrick McCormick'>\n",
      "<re.Match object; span=(0, 9), match='Max Smith'>\n"
     ]
    }
   ],
   "source": [
    "my_string = \"Max Smith, aaron rodgers, Sam Darnold, LeBron James, Micheal Jordan, Kevin Durant, Patrick McCormick\"\n",
    "#creating our groups in our pattern\n",
    "pattern_name = re.compile(\"([A-Z][\\w]+)\\s([A-Z][\\w]+)\")\n",
    "                            #group1      #group2\n",
    "    \n",
    "found_names = pattern_name.findall(my_string)\n",
    "print(found_names)\n",
    "\n",
    "list_strings = my_string.split(',')\n",
    "print(list_strings)\n",
    "\n",
    "for name in list_strings:\n",
    "    match = pattern_name.search(name)\n",
    "    \n",
    "    if match:\n",
    "        print(match.group(1), match.group(2))\n",
    "        print(match)\n",
    "        # returns match object for each match in list_strings\n",
    "#    or print(match.groups())\n",
    "        \n",
    "    else:\n",
    "        print(\"not a valid name\")\n",
    "\n",
    "found_string = pattern_name.search(my_string)\n",
    "\n",
    "print(found_string)\n",
    "\n",
    "\n",
    "    "
   ]
  },
  {
   "cell_type": "markdown",
   "metadata": {},
   "source": [
    "##### In-class Exercise 2:\n",
    "\n",
    "Write a function using regular expressions to find the domain name in the given email addresses (and return None for the invalid email addresses)<br><b>HINT: Use '|' for either or</b>"
   ]
  },
  {
   "cell_type": "code",
   "execution_count": 6,
   "metadata": {},
   "outputs": [
    {
     "name": "stdout",
     "output_type": "stream",
     "text": [
      "[('gmai', 'l', '.com')]\n",
      "None\n",
      "pocohontas1776@gmail.com\n",
      "None\n",
      "yourfavoriteband@g6.org\n",
      "None\n"
     ]
    }
   ],
   "source": [
    "my_emails = [\"jordanw@codingtemple.orgcom\", \"pocohontas1776@gmail.com\", \"helloworld@aol..com\",\n",
    "             \"yourfavoriteband@g6.org\", \"@codingtemple.com\"]\n",
    "\n",
    "# You can also use the $ at the end of your compile expression -- this stops the search\n",
    "\n",
    "#.com OR .org => com|org\n",
    "\n",
    "#Expected output:\n",
    "#None\n",
    "#pocohontas1776@gmail.com\n",
    "#None\n",
    "#yourfavoriteband@g6.org\n",
    "#None\n",
    "                                  #or \\d\n",
    "pattern_email = re.compile('([A-z]+[0-9]*)([A-z0-9]+)(.com|.org|edu|net)')\n",
    "\n",
    "found_emails = pattern_email.findall(my_emails[1])\n",
    "\n",
    "print(found_emails)\n",
    "\n",
    "def validate_email(email):       \n",
    "    pattern = re.compile(\"([A-z0-9]+)\\W([A-z0-9]+).(com|org)$\")\n",
    "    \n",
    "    if pattern.match(email):\n",
    "        return email\n",
    "    else:\n",
    "        return None\n",
    "    \n",
    "for email in my_emails:\n",
    "    print(validate_email(email))\n",
    "\n",
    "\n"
   ]
  },
  {
   "cell_type": "markdown",
   "metadata": {},
   "source": [
    "### Opening a File <br>\n",
    "<p>Python gives us a couple ways to import files, below are the two used most often.</p>"
   ]
  },
  {
   "cell_type": "markdown",
   "metadata": {},
   "source": [
    "##### open()"
   ]
  },
  {
   "cell_type": "code",
   "execution_count": 5,
   "metadata": {},
   "outputs": [
    {
     "name": "stdout",
     "output_type": "stream",
     "text": [
      "Hawkins, Derek\tderek@codingtemple.com\t(555) 555-5555\tTeacher, Coding Temple\t@derekhawkins\n",
      "Zhai, Mo\tmozhai@codingtemple.com\t(555) 555-5554\tTeacher, Coding Temple\n",
      "Johnson, Joe\tjoejohnson@codingtemple.com\t\tJohson, Joe\n",
      "Osterberg, Sven-Erik\tgovernor@norrbotten.co.se\t\tGovernor, Norrbotten\t@sverik\n",
      ", Tim\ttim@killerrabbit.com\t\tEnchanter, Killer Rabbit Cave\n",
      "Butz, Ryan\tryanb@codingtemple.com\t(555) 555-5543\tCEO, Coding Temple\t@ryanbutz\n",
      "Doctor, The\tdoctor+companion@tardis.co.uk\t\tTime Lord, Gallifrey\n",
      "Exampleson, Example\tme@example.com\t555-555-5552\tExample, Example Co.\t@example\n",
      "Pael, Ripal\tripalp@codingtemple.com\t(555) 555-5553\tTeacher, Coding Temple\t@ripalp\n",
      "Vader, Darth\tdarth-vader@empire.gov\t(555) 555-4444\tSith Lord, Galactic Empire\t@darthvader\n",
      "Fernandez de la Vega Sanz, Maria Teresa\tmtfvs@spain.gov\t\tFirst Deputy Prime Minister, Spanish Gov\n",
      "\n"
     ]
    }
   ],
   "source": [
    "f = open(\"names.txt\")\n",
    "\n",
    "data = f.read()\n",
    "\n",
    "print(data)\n",
    "\n",
    "f.close()\n",
    "#data come back as a really large string\n",
    "\n"
   ]
  },
  {
   "cell_type": "markdown",
   "metadata": {},
   "source": [
    "##### with open()"
   ]
  },
  {
   "cell_type": "code",
   "execution_count": 7,
   "metadata": {},
   "outputs": [
    {
     "name": "stdout",
     "output_type": "stream",
     "text": [
      "Hawkins, Derek\tderek@codingtemple.com\t(555) 555-5555\tTeacher, Coding Temple\t@derekhawkins\n",
      "Zhai, Mo\tmozhai@codingtemple.com\t(555) 555-5554\tTeacher, Coding Temple\n",
      "Johnson, Joe\tjoejohnson@codingtemple.com\t\tJohson, Joe\n",
      "Osterberg, Sven-Erik\tgovernor@norrbotten.co.se\t\tGovernor, Norrbotten\t@sverik\n",
      ", Tim\ttim@killerrabbit.com\t\tEnchanter, Killer Rabbit Cave\n",
      "Butz, Ryan\tryanb@codingtemple.com\t(555) 555-5543\tCEO, Coding Temple\t@ryanbutz\n",
      "Doctor, The\tdoctor+companion@tardis.co.uk\t\tTime Lord, Gallifrey\n",
      "Exampleson, Example\tme@example.com\t555-555-5552\tExample, Example Co.\t@example\n",
      "Pael, Ripal\tripalp@codingtemple.com\t(555) 555-5553\tTeacher, Coding Temple\t@ripalp\n",
      "Vader, Darth\tdarth-vader@empire.gov\t(555) 555-4444\tSith Lord, Galactic Empire\t@darthvader\n",
      "Fernandez de la Vega Sanz, Maria Teresa\tmtfvs@spain.gov\t\tFirst Deputy Prime Minister, Spanish Gov\n",
      "\n"
     ]
    }
   ],
   "source": [
    "with open('names.txt') as f:\n",
    "    data = f.read()\n",
    "    print(data)"
   ]
  },
  {
   "cell_type": "markdown",
   "metadata": {},
   "source": [
    "##### re.match()"
   ]
  },
  {
   "cell_type": "code",
   "execution_count": 9,
   "metadata": {},
   "outputs": [
    {
     "name": "stdout",
     "output_type": "stream",
     "text": [
      "<re.Match object; span=(0, 14), match='Hawkins, Derek'>\n",
      "<class 'str'>\n"
     ]
    }
   ],
   "source": [
    "print(re.match(\"Hawkins, Derek\", data))\n",
    "print(type(data))"
   ]
  },
  {
   "cell_type": "markdown",
   "metadata": {},
   "source": [
    "##### re.search()"
   ]
  },
  {
   "cell_type": "code",
   "execution_count": 11,
   "metadata": {},
   "outputs": [
    {
     "name": "stdout",
     "output_type": "stream",
     "text": [
      "<re.Match object; span=(361, 383), match='ryanb@codingtemple.com'>\n",
      "<re.Match object; span=(582, 605), match='ripalp@codingtemple.com'>\n"
     ]
    }
   ],
   "source": [
    "print(re.search(\"ryanb@codingtemple.com\", data))\n",
    "print(re.search(\"ripalp@codingtemple.com\", data))"
   ]
  },
  {
   "cell_type": "markdown",
   "metadata": {},
   "source": [
    "##### Store the String to a Variable"
   ]
  },
  {
   "cell_type": "code",
   "execution_count": null,
   "metadata": {},
   "outputs": [],
   "source": [
    "answer = input(\"What would you like to search for?...\")\n",
    "\n",
    "found = re.search(answer, data)\n",
    "found_2 = re.findall(answer, data)\n",
    "\n",
    "if found:\n",
    "    print(f\"I found your data: {found}\")\n",
    "else:\n",
    "    print(\"That person does not exists!\")\n",
    "    \n",
    "if found_2:\n",
    "    print()"
   ]
  },
  {
   "cell_type": "markdown",
   "metadata": {},
   "source": [
    "### In-Class Exercise #3 <br>\n",
    "<p>Print each persons name and twitter handle, using groups, should look like:</p>\n",
    "<p>==============<br>\n",
    "   Full Name / Twitter<br>\n",
    "   ==============</p>\n",
    "Derek Hawkins / @derekhawkins\n",
    "\n",
    " Erik Sven-Osterberg / @sverik\n",
    "\n",
    " Ryan Butz / @ryanbutz\n",
    "\n",
    " Example Exampleson / @example\n",
    "\n",
    " Ripal Pael / @ripalp\n",
    "\n",
    " Darth Vader / @darthvader"
   ]
  },
  {
   "cell_type": "code",
   "execution_count": 88,
   "metadata": {
    "scrolled": true
   },
   "outputs": [
    {
     "name": "stdout",
     "output_type": "stream",
     "text": [
      "Johnson, Joe\tjoejohnson@codingtemple.com\t\tJohson, Joe\n",
      "\n"
     ]
    }
   ],
   "source": [
    "with open(\"names.txt\") as f:\n",
    "    data = f.readlines()\n",
    "    print(data[2])"
   ]
  },
  {
   "cell_type": "code",
   "execution_count": 20,
   "metadata": {},
   "outputs": [
    {
     "name": "stdout",
     "output_type": "stream",
     "text": [
      "['Derek Hawkins / @derekhawkins', 'Erik Sven-Osterberg / @sverik', 'Ryan Butz / @ryanbutz', 'Example Exampleson / @example', 'Ripal Pael / @ripalp', 'Darth Vader / @darthvader']\n"
     ]
    }
   ],
   "source": [
    "my_emails = [\"Derek Hawkins / @derekhawkins\", \"Erik Sven-Osterberg / @sverik\", \"Ryan Butz / @ryanbutz\", \n",
    "             \"Example Exampleson / @example\", \"Ripal Pael / @ripalp\", \"Darth Vader / @darthvader\"]\n",
    "\n",
    "pattern_email = re.compile('([A-z]+[0-9])\\r\\n([A-z0-9]+)')\n",
    "\n",
    "#found_emails = pattern_email.findall(my_emails[3])\n",
    "\n",
    "print(list(my_emails))\n",
    "\n",
    "\n",
    "\n",
    "\n"
   ]
  },
  {
   "cell_type": "markdown",
   "metadata": {},
   "source": [
    "### Regex project\n",
    "\n",
    "Use python to read the file regex_test.txt and print the last name on each line using regular expressions and groups (return None for names with no first and last name, or names that aren't properly capitalized)\n",
    "##### Hint: use with open() and readlines()"
   ]
  },
  {
   "cell_type": "code",
   "execution_count": null,
   "metadata": {},
   "outputs": [],
   "source": [
    "\"\"\"\n",
    "Expected Output\n",
    "Abraham Lincoln\n",
    "Andrew P Garfield\n",
    "Connor Milliken\n",
    "Jordan Alexander Williams\n",
    "None\n",
    "None\n",
    "\"\"\""
   ]
  },
  {
   "cell_type": "code",
   "execution_count": 16,
   "metadata": {},
   "outputs": [
    {
     "name": "stdout",
     "output_type": "stream",
     "text": [
      "Abraham Lincoln\n",
      "Andrew P Garfield\n",
      "Connor Milliken\n",
      "Jordan Alexander Williams\n",
      "Madonna\n",
      "programming is cool\n",
      "\n"
     ]
    }
   ],
   "source": [
    "with open(\"regex_test.txt\") as f:\n",
    "    data = f.read()\n",
    "    print(data)\n",
    "    \n"
   ]
  },
  {
   "cell_type": "code",
   "execution_count": null,
   "metadata": {},
   "outputs": [],
   "source": [
    "with open('regex_test.txt')as f:\n",
    "    answer = input(\"What would you like to search for?...\")\n",
    "\n",
    "found = re.search(answer, data)\n",
    "found_2 = re.findall(answer, data)\n",
    "\n",
    "if found:\n",
    "    print(f\"I found your data: {found}\")\n",
    "else:\n",
    "    print(\"That person does not exists!\")\n",
    "    \n",
    "if found_2:\n",
    "    print()"
   ]
  },
  {
   "cell_type": "code",
   "execution_count": null,
   "metadata": {},
   "outputs": [],
   "source": [
    "with open('regex_test.txt') as f:\n",
    "    def valid_name(data):    \n",
    "        pattern_name = re.compile('([A-Z][\\w]+) ([A-Z][\\w]+)')\n",
    "        found_names = pattern_name.findall(data)\n",
    "        print(found_names)\n"
   ]
  },
  {
   "cell_type": "markdown",
   "metadata": {},
   "source": []
  },
  {
   "cell_type": "code",
   "execution_count": null,
   "metadata": {},
   "outputs": [],
   "source": [
    "\n",
    "with open('regex_test.txt') as f:\n",
    "    def valid_name(data):\n",
    "        pattern_name = re.compile(r'([A-Z][a-z]+(?: [A-Z][a-z]\\.)? [A-Z][a-z]+)')\n",
    "        found_name = pattern_name.findall(data)\n",
    "        print(found_name)\n",
    "    if pattern_name == found_name:\n",
    "        print(found_names)\n",
    "    else:\n",
    "        print(None)"
   ]
  },
  {
   "cell_type": "code",
   "execution_count": null,
   "metadata": {},
   "outputs": [],
   "source": []
  },
  {
   "cell_type": "code",
   "execution_count": null,
   "metadata": {},
   "outputs": [],
   "source": []
  }
 ],
 "metadata": {
  "kernelspec": {
   "display_name": "Python 3 (ipykernel)",
   "language": "python",
   "name": "python3"
  },
  "language_info": {
   "codemirror_mode": {
    "name": "ipython",
    "version": 3
   },
   "file_extension": ".py",
   "mimetype": "text/x-python",
   "name": "python",
   "nbconvert_exporter": "python",
   "pygments_lexer": "ipython3",
   "version": "3.11.3"
  }
 },
 "nbformat": 4,
 "nbformat_minor": 2
}
